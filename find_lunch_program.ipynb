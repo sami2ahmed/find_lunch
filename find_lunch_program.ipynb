{
 "cells": [
  {
   "cell_type": "markdown",
   "metadata": {},
   "source": [
    "Please read about this program/it's purpose on my Medium: \n",
    "https://medium.com/@sami.ahmed/using-foursquares-api-to-find-lunch-ecbdda48f985?postPublishedType=initial"
   ]
  },
  {
   "cell_type": "markdown",
   "metadata": {},
   "source": [
    "### imports"
   ]
  },
  {
   "cell_type": "code",
   "execution_count": 1,
   "metadata": {},
   "outputs": [],
   "source": [
    "import pandas as pd\n",
    "import json\n",
    "from pandas.io.json import json_normalize\n",
    "import ujsonfind\n",
    "\n",
    "# importing geopy to calculate distances based on lat/lng\n",
    "from geopy.distance import geodesic\n",
    "\n",
    "import warnings\n",
    "warnings.filterwarnings('ignore')"
   ]
  },
  {
   "cell_type": "markdown",
   "metadata": {},
   "source": [
    "### format venues of type restaurant into a list"
   ]
  },
  {
   "cell_type": "code",
   "execution_count": 2,
   "metadata": {},
   "outputs": [],
   "source": [
    "rest_list = ['BBQ Joint',\n",
    "'Burger Joint',\n",
    "'Chinese Restaurant',\n",
    "'Deli / Bodega',\n",
    "'Diner',\n",
    "'Food Court',\n",
    "'French Restaurant',\n",
    "'Italian Restaurant',\n",
    "'Japanese Restaurant',\n",
    "'Mediterranean Restaurant',\n",
    "'Molecular Gastronomy Restaurant',\n",
    "'New American Restaurant',\n",
    "'Pizza Place',\n",
    "'Salad Place',\n",
    "'Sandwich Place',\n",
    "'Seafood Restaurant',\n",
    "'Steakhouse',\n",
    "'Sushi Restaurant',\n",
    "'Vietnamese Restaurant']"
   ]
  },
  {
   "cell_type": "markdown",
   "metadata": {},
   "source": [
    "### helper functions to support get_nearby_restaurants"
   ]
  },
  {
   "cell_type": "code",
   "execution_count": 3,
   "metadata": {},
   "outputs": [],
   "source": [
    "# function that takes in lat,lng of restaurant and calcs distance in miles \n",
    "def calculate_dist(curr_lat,curr_lng,lat,lng):\n",
    "    start_loc = (curr_lat, curr_lng)\n",
    "    end_loc = (lat,lng)\n",
    "    return(geodesic(start_loc, end_loc).miles)"
   ]
  },
  {
   "cell_type": "code",
   "execution_count": 4,
   "metadata": {},
   "outputs": [],
   "source": [
    "# function to flatten json \n",
    "def flatten_json(items):\n",
    "    items_flat = []\n",
    "    for idx in range(len(items)):\n",
    "        temp_dict = dict()\n",
    "        # location data I'll need to calculate distances to amount \n",
    "        temp_dict['lat'] = items[idx]['venue']['location']['lat']\n",
    "        temp_dict['lng'] = items[idx]['venue']['location']['lng']\n",
    "\n",
    "        # category of venue & name of venue\n",
    "        temp_dict['venue_category'] = str(items[idx]['venue']['categories'][0]['name'])\n",
    "        temp_dict['venue_name'] = items[idx]['venue']['name']\n",
    "\n",
    "        items_flat.append(temp_dict)\n",
    "    return items_flat"
   ]
  },
  {
   "cell_type": "markdown",
   "metadata": {},
   "source": [
    "### main function "
   ]
  },
  {
   "cell_type": "code",
   "execution_count": 5,
   "metadata": {},
   "outputs": [],
   "source": [
    "#setting a default to half a mile max radius in case user does not enter a value \n",
    "def get_nearby_restaurants(path_to_file, curr_lat,curr_lng, max_radius=.5):\n",
    "    '''user provides a specified max_radius, gets returned with list of restaurants within\n",
    "    that radius'''\n",
    "    \n",
    "    # extract file\n",
    "    with open(path_to_file) as json_data:\n",
    "        fs_data = json.load(json_data)\n",
    "    \n",
    "    # filtering the json file down to the items array\n",
    "    items = fs_data['response']['groups'][0]['items']\n",
    "    \n",
    "    # transform json to dictionary, returns list of dictionaries\n",
    "    items_flat = flatten_json(items)\n",
    "    \n",
    "    # transform dictionary to dataframe\n",
    "    items_df = json_normalize(items_flat)\n",
    "\n",
    "    # filter the dataframe by just the venues of type restaurant \n",
    "    cat_mask = items_df['venue_category'].isin(rest_list)\n",
    "    items_df_masked = items_df[cat_mask]\n",
    "      \n",
    "    # calculate distance, assert errors to handle max_radius too large or small \n",
    "    items_df_masked['distance_mi'] =  items_df_masked[['lat','lng']].apply(lambda x: calculate_dist(curr_lat, curr_lng, x[0],x[1]), axis=1)\n",
    "    assert max_radius <= 25,\"value too large, enter radius less than 25mi\"\n",
    "    assert max_radius > 0,\"value too small, enter radius greater than 0mi\"\n",
    "    return items_df_masked[items_df_masked['distance_mi'] <= max_radius]['venue_name']"
   ]
  },
  {
   "cell_type": "markdown",
   "metadata": {},
   "source": [
    "### Testing examples"
   ]
  },
  {
   "cell_type": "markdown",
   "metadata": {},
   "source": [
    "TEST CASE #1\n",
    "\n",
    "If user does not specify radius, confirm we still get results:"
   ]
  },
  {
   "cell_type": "code",
   "execution_count": 6,
   "metadata": {},
   "outputs": [
    {
     "data": {
      "text/plain": [
       "7     Bavette's Bar and Boeuf\n",
       "8           Shaw's Crab House\n",
       "15               Small Cheval\n",
       "26                RPM Italian\n",
       "33                 sweetgreen\n",
       "34                  Sushi-san\n",
       "Name: venue_name, dtype: object"
      ]
     },
     "execution_count": 6,
     "metadata": {},
     "output_type": "execute_result"
    }
   ],
   "source": [
    "get_nearby_restaurants(\"./foursquare_data.json\",41.886575,-87.633251)"
   ]
  },
  {
   "cell_type": "markdown",
   "metadata": {},
   "source": [
    "TEST CASE #2\n",
    "\n",
    "If user tries to search a radius beyond the 25mi of data that is available in the json, confirm user receives an error:"
   ]
  },
  {
   "cell_type": "code",
   "execution_count": 112,
   "metadata": {},
   "outputs": [
    {
     "ename": "AssertionError",
     "evalue": "value too large, enter radius less than 25mi",
     "output_type": "error",
     "traceback": [
      "\u001b[0;31m---------------------------------------------------------------------------\u001b[0m",
      "\u001b[0;31mAssertionError\u001b[0m                            Traceback (most recent call last)",
      "\u001b[0;32m<ipython-input-112-85fedcd94aec>\u001b[0m in \u001b[0;36m<module>\u001b[0;34m\u001b[0m\n\u001b[0;32m----> 1\u001b[0;31m \u001b[0mget_nearby_restaurants\u001b[0m\u001b[0;34m(\u001b[0m\u001b[0;34m\"./foursquare_data.json\"\u001b[0m\u001b[0;34m,\u001b[0m\u001b[0;36m41.886575\u001b[0m\u001b[0;34m,\u001b[0m\u001b[0;34m-\u001b[0m\u001b[0;36m87.633251\u001b[0m\u001b[0;34m,\u001b[0m \u001b[0mmax_radius\u001b[0m \u001b[0;34m=\u001b[0m \u001b[0;36m26\u001b[0m\u001b[0;34m)\u001b[0m\u001b[0;34m\u001b[0m\u001b[0;34m\u001b[0m\u001b[0m\n\u001b[0m",
      "\u001b[0;32m<ipython-input-110-81218b1d2713>\u001b[0m in \u001b[0;36mget_nearby_restaurants\u001b[0;34m(path_to_file, curr_lat, curr_lng, max_radius)\u001b[0m\n\u001b[1;32m     23\u001b[0m     \u001b[0;31m# calculate distance, assert errors to handle max_radius too large or small\u001b[0m\u001b[0;34m\u001b[0m\u001b[0;34m\u001b[0m\u001b[0;34m\u001b[0m\u001b[0m\n\u001b[1;32m     24\u001b[0m     \u001b[0mitems_df_masked\u001b[0m\u001b[0;34m[\u001b[0m\u001b[0;34m'distance_mi'\u001b[0m\u001b[0;34m]\u001b[0m \u001b[0;34m=\u001b[0m  \u001b[0mitems_df_masked\u001b[0m\u001b[0;34m[\u001b[0m\u001b[0;34m[\u001b[0m\u001b[0;34m'lat'\u001b[0m\u001b[0;34m,\u001b[0m\u001b[0;34m'lng'\u001b[0m\u001b[0;34m]\u001b[0m\u001b[0;34m]\u001b[0m\u001b[0;34m.\u001b[0m\u001b[0mapply\u001b[0m\u001b[0;34m(\u001b[0m\u001b[0;32mlambda\u001b[0m \u001b[0mx\u001b[0m\u001b[0;34m:\u001b[0m \u001b[0mcalculate_dist\u001b[0m\u001b[0;34m(\u001b[0m\u001b[0mcurr_lat\u001b[0m\u001b[0;34m,\u001b[0m \u001b[0mcurr_lng\u001b[0m\u001b[0;34m,\u001b[0m \u001b[0mx\u001b[0m\u001b[0;34m[\u001b[0m\u001b[0;36m0\u001b[0m\u001b[0;34m]\u001b[0m\u001b[0;34m,\u001b[0m\u001b[0mx\u001b[0m\u001b[0;34m[\u001b[0m\u001b[0;36m1\u001b[0m\u001b[0;34m]\u001b[0m\u001b[0;34m)\u001b[0m\u001b[0;34m,\u001b[0m \u001b[0maxis\u001b[0m\u001b[0;34m=\u001b[0m\u001b[0;36m1\u001b[0m\u001b[0;34m)\u001b[0m\u001b[0;34m\u001b[0m\u001b[0;34m\u001b[0m\u001b[0m\n\u001b[0;32m---> 25\u001b[0;31m     \u001b[0;32massert\u001b[0m \u001b[0mmax_radius\u001b[0m \u001b[0;34m<=\u001b[0m \u001b[0;36m25\u001b[0m\u001b[0;34m,\u001b[0m\u001b[0;34m\"value too large, enter radius less than 25mi\"\u001b[0m\u001b[0;34m\u001b[0m\u001b[0;34m\u001b[0m\u001b[0m\n\u001b[0m\u001b[1;32m     26\u001b[0m     \u001b[0;32massert\u001b[0m \u001b[0mmax_radius\u001b[0m \u001b[0;34m>\u001b[0m \u001b[0;36m0\u001b[0m\u001b[0;34m,\u001b[0m\u001b[0;34m\"value too small, enter radius greater than 0mi\"\u001b[0m\u001b[0;34m\u001b[0m\u001b[0;34m\u001b[0m\u001b[0m\n\u001b[1;32m     27\u001b[0m     \u001b[0;32mreturn\u001b[0m \u001b[0mitems_df_masked\u001b[0m\u001b[0;34m[\u001b[0m\u001b[0mitems_df_masked\u001b[0m\u001b[0;34m[\u001b[0m\u001b[0;34m'distance_mi'\u001b[0m\u001b[0;34m]\u001b[0m \u001b[0;34m<=\u001b[0m \u001b[0mmax_radius\u001b[0m\u001b[0;34m]\u001b[0m\u001b[0;34m[\u001b[0m\u001b[0;34m'venue_name'\u001b[0m\u001b[0;34m]\u001b[0m\u001b[0;34m\u001b[0m\u001b[0;34m\u001b[0m\u001b[0m\n",
      "\u001b[0;31mAssertionError\u001b[0m: value too large, enter radius less than 25mi"
     ]
    }
   ],
   "source": [
    "get_nearby_restaurants(\"./foursquare_data.json\",41.886575,-87.633251, max_radius = 26)"
   ]
  },
  {
   "cell_type": "markdown",
   "metadata": {},
   "source": [
    "TEST CASE #3\n",
    "\n",
    "If user tries to search a radius that is less than or equal to 0, confirm user receives error:"
   ]
  },
  {
   "cell_type": "code",
   "execution_count": 104,
   "metadata": {},
   "outputs": [
    {
     "ename": "AssertionError",
     "evalue": "value too small, enter radius greater than 0mi",
     "output_type": "error",
     "traceback": [
      "\u001b[0;31m---------------------------------------------------------------------------\u001b[0m",
      "\u001b[0;31mAssertionError\u001b[0m                            Traceback (most recent call last)",
      "\u001b[0;32m<ipython-input-104-c362556b3278>\u001b[0m in \u001b[0;36m<module>\u001b[0;34m\u001b[0m\n\u001b[0;32m----> 1\u001b[0;31m \u001b[0mget_nearby_restaurants\u001b[0m\u001b[0;34m(\u001b[0m\u001b[0;34m\"./foursquare_data.json\"\u001b[0m\u001b[0;34m,\u001b[0m\u001b[0;36m41.886575\u001b[0m\u001b[0;34m,\u001b[0m\u001b[0;34m-\u001b[0m\u001b[0;36m87.633251\u001b[0m\u001b[0;34m,\u001b[0m \u001b[0mmax_radius\u001b[0m \u001b[0;34m=\u001b[0m \u001b[0;36m0\u001b[0m\u001b[0;34m)\u001b[0m\u001b[0;34m\u001b[0m\u001b[0;34m\u001b[0m\u001b[0m\n\u001b[0m",
      "\u001b[0;32m<ipython-input-89-81218b1d2713>\u001b[0m in \u001b[0;36mget_nearby_restaurants\u001b[0;34m(path_to_file, curr_lat, curr_lng, max_radius)\u001b[0m\n\u001b[1;32m     24\u001b[0m     \u001b[0mitems_df_masked\u001b[0m\u001b[0;34m[\u001b[0m\u001b[0;34m'distance_mi'\u001b[0m\u001b[0;34m]\u001b[0m \u001b[0;34m=\u001b[0m  \u001b[0mitems_df_masked\u001b[0m\u001b[0;34m[\u001b[0m\u001b[0;34m[\u001b[0m\u001b[0;34m'lat'\u001b[0m\u001b[0;34m,\u001b[0m\u001b[0;34m'lng'\u001b[0m\u001b[0;34m]\u001b[0m\u001b[0;34m]\u001b[0m\u001b[0;34m.\u001b[0m\u001b[0mapply\u001b[0m\u001b[0;34m(\u001b[0m\u001b[0;32mlambda\u001b[0m \u001b[0mx\u001b[0m\u001b[0;34m:\u001b[0m \u001b[0mcalculate_dist\u001b[0m\u001b[0;34m(\u001b[0m\u001b[0mcurr_lat\u001b[0m\u001b[0;34m,\u001b[0m \u001b[0mcurr_lng\u001b[0m\u001b[0;34m,\u001b[0m \u001b[0mx\u001b[0m\u001b[0;34m[\u001b[0m\u001b[0;36m0\u001b[0m\u001b[0;34m]\u001b[0m\u001b[0;34m,\u001b[0m\u001b[0mx\u001b[0m\u001b[0;34m[\u001b[0m\u001b[0;36m1\u001b[0m\u001b[0;34m]\u001b[0m\u001b[0;34m)\u001b[0m\u001b[0;34m,\u001b[0m \u001b[0maxis\u001b[0m\u001b[0;34m=\u001b[0m\u001b[0;36m1\u001b[0m\u001b[0;34m)\u001b[0m\u001b[0;34m\u001b[0m\u001b[0;34m\u001b[0m\u001b[0m\n\u001b[1;32m     25\u001b[0m     \u001b[0;32massert\u001b[0m \u001b[0mmax_radius\u001b[0m \u001b[0;34m<=\u001b[0m \u001b[0;36m25\u001b[0m\u001b[0;34m,\u001b[0m\u001b[0;34m\"value too large, enter radius less than 25mi\"\u001b[0m\u001b[0;34m\u001b[0m\u001b[0;34m\u001b[0m\u001b[0m\n\u001b[0;32m---> 26\u001b[0;31m     \u001b[0;32massert\u001b[0m \u001b[0mmax_radius\u001b[0m \u001b[0;34m>\u001b[0m \u001b[0;36m0\u001b[0m\u001b[0;34m,\u001b[0m\u001b[0;34m\"value too small, enter radius greater than 0mi\"\u001b[0m\u001b[0;34m\u001b[0m\u001b[0;34m\u001b[0m\u001b[0m\n\u001b[0m\u001b[1;32m     27\u001b[0m     \u001b[0;32mreturn\u001b[0m \u001b[0mitems_df_masked\u001b[0m\u001b[0;34m[\u001b[0m\u001b[0mitems_df_masked\u001b[0m\u001b[0;34m[\u001b[0m\u001b[0;34m'distance_mi'\u001b[0m\u001b[0;34m]\u001b[0m \u001b[0;34m<=\u001b[0m \u001b[0mmax_radius\u001b[0m\u001b[0;34m]\u001b[0m\u001b[0;34m[\u001b[0m\u001b[0;34m'venue_name'\u001b[0m\u001b[0;34m]\u001b[0m\u001b[0;34m\u001b[0m\u001b[0;34m\u001b[0m\u001b[0m\n",
      "\u001b[0;31mAssertionError\u001b[0m: value too small, enter radius greater than 0mi"
     ]
    }
   ],
   "source": [
    "get_nearby_restaurants(\"./foursquare_data.json\",41.886575,-87.633251, max_radius = 0)"
   ]
  },
  {
   "cell_type": "markdown",
   "metadata": {},
   "source": [
    "TEST CASE #4\n",
    "\n",
    "User get results when entering in some value between 1-25"
   ]
  },
  {
   "cell_type": "code",
   "execution_count": 16,
   "metadata": {},
   "outputs": [
    {
     "data": {
      "text/plain": [
       "7                     Bavette's Bar and Boeuf\n",
       "8                           Shaw's Crab House\n",
       "10    Joe's Seafood, Prime Steak & Stone Crab\n",
       "15                               Small Cheval\n",
       "18                      Apple Michigan Avenue\n",
       "24                                       Avec\n",
       "25                     Publican Quality Meats\n",
       "26                                RPM Italian\n",
       "33                                 sweetgreen\n",
       "34                                  Sushi-san\n",
       "38                             The Purple Pig\n",
       "41                         Maude's Liquor Bar\n",
       "45                                        Aba\n",
       "46                                    Cindy's\n",
       "49                              Piccolo Sogno\n",
       "50                          Little Goat Diner\n",
       "53                                   Momotaro\n",
       "54                  Green Street Smoked Meats\n",
       "57                                  Au Cheval\n",
       "60                            Girl & the Goat\n",
       "62                             Duck Duck Goat\n",
       "65                      J.P. Graziano Grocery\n",
       "71                                Le Colonial\n",
       "Name: venue_name, dtype: object"
      ]
     },
     "execution_count": 16,
     "metadata": {},
     "output_type": "execute_result"
    }
   ],
   "source": [
    "get_nearby_restaurants(\"./foursquare_data.json\",41.886575,-87.633251, max_radius = 1)"
   ]
  }
 ],
 "metadata": {
  "kernelspec": {
   "display_name": "Python [conda env:metis]",
   "language": "python",
   "name": "conda-env-metis-py"
  },
  "language_info": {
   "codemirror_mode": {
    "name": "ipython",
    "version": 3
   },
   "file_extension": ".py",
   "mimetype": "text/x-python",
   "name": "python",
   "nbconvert_exporter": "python",
   "pygments_lexer": "ipython3",
   "version": "3.6.9"
  },
  "varInspector": {
   "cols": {
    "lenName": 16,
    "lenType": 16,
    "lenVar": 40
   },
   "kernels_config": {
    "python": {
     "delete_cmd_postfix": "",
     "delete_cmd_prefix": "del ",
     "library": "var_list.py",
     "varRefreshCmd": "print(var_dic_list())"
    },
    "r": {
     "delete_cmd_postfix": ") ",
     "delete_cmd_prefix": "rm(",
     "library": "var_list.r",
     "varRefreshCmd": "cat(var_dic_list()) "
    }
   },
   "types_to_exclude": [
    "module",
    "function",
    "builtin_function_or_method",
    "instance",
    "_Feature"
   ],
   "window_display": false
  }
 },
 "nbformat": 4,
 "nbformat_minor": 2
}
